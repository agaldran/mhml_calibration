{
 "cells": [
  {
   "cell_type": "code",
   "execution_count": 1,
   "id": "e899433c",
   "metadata": {},
   "outputs": [],
   "source": [
    "from utils.yace import YACE"
   ]
  },
  {
   "cell_type": "code",
   "execution_count": 2,
   "id": "c7ffd237",
   "metadata": {},
   "outputs": [],
   "source": [
    "import torch\n",
    "import torch.nn as nn\n",
    "from sklearn.metrics import log_loss"
   ]
  },
  {
   "cell_type": "code",
   "execution_count": 3,
   "id": "5bdb2b80",
   "metadata": {},
   "outputs": [],
   "source": [
    "import numpy as np\n",
    "\n",
    "def set_seed(seed_value, use_cuda):\n",
    "    if seed_value is not None:\n",
    "        np.random.seed(seed_value)  # cpu vars\n",
    "        torch.manual_seed(seed_value)  # cpu  vars\n",
    "        random.seed(seed_value)  # Python\n",
    "        torch.use_deterministic_algorithms(True)\n",
    "\n",
    "        if use_cuda:\n",
    "            torch.cuda.manual_seed(seed_value)\n",
    "            torch.cuda.manual_seed_all(seed_value)\n",
    "            torch.backends.cudnn.deterministic = True"
   ]
  },
  {
   "cell_type": "code",
   "execution_count": 4,
   "id": "cead3e30",
   "metadata": {},
   "outputs": [],
   "source": [
    "import os, sys, random, argparse, os.path as osp\n",
    "import pandas as pd\n",
    "import numpy as np\n",
    "import torch\n",
    "import medmnist\n",
    "from utils.data_handling import get_medmnist_loaders, get_medmnist_test_loader\n",
    "from utils.data_handling import get_class_loaders, get_class_test_loader\n",
    "from utils.evaluation import evaluate_cls\n",
    "from utils.get_model_v2 import get_arch\n",
    "from tqdm import trange, tqdm\n",
    "import torchvision.transforms as tr"
   ]
  },
  {
   "cell_type": "code",
   "execution_count": 5,
   "id": "10f432dd",
   "metadata": {},
   "outputs": [],
   "source": [
    "def test_one_epoch(model, loader, device):\n",
    "    model.to(device)\n",
    "    model.eval()\n",
    "    probs_all, labels_all = [], []\n",
    "\n",
    "    for i_batch, (inputs, labels) in enumerate(loader):\n",
    "        inputs = inputs.to(device)\n",
    "        logits = model(inputs)  # bs x n_classes\n",
    "        probs = logits.softmax(dim=1).detach().cpu().numpy()\n",
    "        labels = labels.numpy()\n",
    "        if labels.ndim == 0:  # for 1-element batches labels degenerates to a scalar\n",
    "            labels = np.expand_dims(labels, 0)\n",
    "        probs_all.extend(probs)\n",
    "        labels_all.extend(list(labels))\n",
    "\n",
    "    return np.stack(probs_all), np.array(labels_all).squeeze()\n",
    "\n",
    "def test_cls(model, test_loader, device):\n",
    "\n",
    "    with torch.inference_mode():\n",
    "        probs, labels = test_one_epoch(model, test_loader, device)\n",
    "\n",
    "    del model\n",
    "    torch.cuda.empty_cache()\n",
    "\n",
    "    return probs, labels"
   ]
  },
  {
   "cell_type": "code",
   "execution_count": 6,
   "id": "c040ddad",
   "metadata": {},
   "outputs": [],
   "source": [
    "from torchmetrics.classification import MulticlassCalibrationError"
   ]
  },
  {
   "cell_type": "code",
   "execution_count": 7,
   "id": "224f5975",
   "metadata": {},
   "outputs": [],
   "source": [
    "def warn(*args, **kwargs):\n",
    "    pass\n",
    "import warnings\n",
    "warnings.warn = warn"
   ]
  },
  {
   "cell_type": "code",
   "execution_count": 8,
   "id": "7528cc83",
   "metadata": {},
   "outputs": [],
   "source": [
    "use_cuda = torch.cuda.is_available()\n",
    "device = torch.device('cuda:0' if use_cuda else 'cpu')"
   ]
  },
  {
   "cell_type": "markdown",
   "id": "a517d964",
   "metadata": {},
   "source": [
    "## Multi-heads with noisy wCE"
   ]
  },
  {
   "cell_type": "code",
   "execution_count": 9,
   "id": "059cc145",
   "metadata": {},
   "outputs": [],
   "source": [
    "def test_one_epoch_multihead(model, loader, device):\n",
    "    ## IMPORTANT: Note that multi-head models in test time return softmax-activated tensors and not logits\n",
    "    ## which is shitty because I cannot apply TC\n",
    "    model.to(device)\n",
    "    model.eval()\n",
    "\n",
    "    probs_all, labels_all = [], []\n",
    "\n",
    "    for i_batch, (inputs, labels) in enumerate(loader):\n",
    "        inputs = inputs.to(device)\n",
    "        probs = model(inputs).detach().cpu().numpy()\n",
    "\n",
    "        labels = labels.numpy()\n",
    "        if labels.ndim == 0:  # for 1-element batches labels degenerates to a scalar\n",
    "            labels = np.expand_dims(labels, 0)\n",
    "        probs_all.extend(probs)\n",
    "        labels_all.extend(list(labels))\n",
    "\n",
    "\n",
    "    return np.stack(probs_all), np.array(labels_all).squeeze()"
   ]
  },
  {
   "cell_type": "code",
   "execution_count": 10,
   "id": "aa8dd01e",
   "metadata": {},
   "outputs": [],
   "source": [
    "# def test_one_epoch_multihead(model, loader, device):\n",
    "#     model.to(device)\n",
    "#     model.eval()\n",
    "\n",
    "#     probs_all, labels_all = [], []\n",
    "\n",
    "#     for i_batch, (inputs, labels) in enumerate(loader):\n",
    "#         inputs = inputs.to(device)\n",
    "#         logits = model(inputs)  # bs x n_heads x n_classes\n",
    "\n",
    "# #       # average over the logits? --- TERRIBLE IDEA\n",
    "# #         logits = torch.mean(logits, dim=1).squeeze()\n",
    "# #         probs = logits.softmax(dim=1).detach().cpu().numpy()\n",
    "#         # or average over the softmaxes?\n",
    "    \n",
    "#         probs_h0 = logits[:,0,:].softmax(dim=1).detach().cpu().numpy()\n",
    "#         probs_h1 = logits[:,1,:].softmax(dim=1).detach().cpu().numpy()\n",
    "#         probs = (probs_h0+probs_h1)/2\n",
    "\n",
    "\n",
    "#         labels = labels.numpy()\n",
    "#         if labels.ndim == 0:  # for 1-element batches labels degenerates to a scalar\n",
    "#             labels = np.expand_dims(labels, 0)\n",
    "#         probs_all.extend(probs)\n",
    "#         labels_all.extend(list(labels))\n",
    "\n",
    "\n",
    "#     return np.stack(probs_all), np.array(labels_all).squeeze()"
   ]
  },
  {
   "cell_type": "code",
   "execution_count": 11,
   "id": "ad2e8d79",
   "metadata": {},
   "outputs": [],
   "source": [
    "def test_cls_multihead(model, test_loader, device):\n",
    "    with torch.inference_mode():\n",
    "        probs, labels = test_one_epoch_multihead(model, test_loader, device)\n",
    "\n",
    "    del model\n",
    "    torch.cuda.empty_cache()\n",
    "\n",
    "    return probs, labels"
   ]
  },
  {
   "cell_type": "code",
   "execution_count": 12,
   "id": "f1aadb10",
   "metadata": {},
   "outputs": [],
   "source": [
    "from utils.data_handling import get_class_test_loader"
   ]
  },
  {
   "cell_type": "code",
   "execution_count": 13,
   "id": "812bbb3b",
   "metadata": {},
   "outputs": [],
   "source": [
    "from tqdm.notebook import tqdm\n",
    "from utils.calib_tools import ace, tace, sce, ece as ece_"
   ]
  },
  {
   "cell_type": "code",
   "execution_count": 14,
   "id": "d9350dd5",
   "metadata": {},
   "outputs": [],
   "source": [
    "dataset='chaoyang'\n",
    "method='ce'\n",
    "assert dataset in ['chaoyang', 'mhist', 'kather', 'busi',  \n",
    "                   'breakhist_40x','breakhist_100x','breakhist_200x','breakhist_400x']\n",
    "data_path = osp.join('data', dataset)\n",
    "csv_test = osp.join('data', 'test_'+dataset+'.csv')\n",
    "\n",
    "tg_size = 224,224\n",
    "if dataset=='kather': tg_size=150,150\n",
    "\n",
    "test_loader  = get_class_test_loader(csv_test, data_path, tg_size, batch_size=64, num_workers=6)\n",
    "num_classes = len(test_loader.dataset.classes)\n",
    "model = get_arch('resnet18', num_classes)"
   ]
  },
  {
   "cell_type": "code",
   "execution_count": 15,
   "id": "34fd18f7",
   "metadata": {},
   "outputs": [
    {
     "data": {
      "text/plain": [
       "<All keys matched successfully>"
      ]
     },
     "execution_count": 15,
     "metadata": {},
     "output_type": "execute_result"
    }
   ],
   "source": [
    "state = torch.load('experiments/chaoyang/bl/r18_f0/model_checkpoint.pth',  map_location=device)\n",
    "model.load_state_dict(state['model_state_dict'])"
   ]
  },
  {
   "cell_type": "code",
   "execution_count": 16,
   "id": "f33fe817",
   "metadata": {},
   "outputs": [],
   "source": [
    "from sklearn.metrics import accuracy_score as acc\n",
    "from sklearn.metrics import roc_auc_score as auc\n",
    "from sklearn.metrics import log_loss as error\n",
    "\n",
    "# from utils.temperature_calibration import ModelWithTemperature\n",
    "from utils.data_handling import get_medmnist_loaders"
   ]
  },
  {
   "cell_type": "code",
   "execution_count": 17,
   "id": "a4a0581d",
   "metadata": {},
   "outputs": [],
   "source": [
    "def print_results_multi_fold(dataset=None, model_name='resnet18', n_bins=15, method='bl', \n",
    "                             with_temp=False, with_ens=False, yace_metric=acc, blur=0):\n",
    "    assert dataset is not None\n",
    "    use_cuda = torch.cuda.is_available()\n",
    "    device = torch.device('cuda:0' if use_cuda else 'cpu')\n",
    "    seed=0\n",
    "    set_seed(seed, use_cuda)\n",
    "    if model_name in ['convnext', 'swin'] :\n",
    "        torch.use_deterministic_algorithms(False)\n",
    "        torch.backends.cudnn.deterministic = True\n",
    "\n",
    "    assert dataset in ['chaoyang', 'kather', 'kvasir', 'pathmnist', 'retinamnist', 'dermamnist',\n",
    "                       'busi', 'gbcu', 'mhist', \n",
    "                       'breakhist_40x','breakhist_100x','breakhist_200x','breakhist_400x']\n",
    "\n",
    "    if 'mnist' in dataset:\n",
    "        tg_size = 28 if model_name !='convnext' else 32\n",
    "        test_loader = get_medmnist_test_loader(dataset, batch_size=128, num_workers=6, tg_size=tg_size)\n",
    "        class_names = list(medmnist.INFO[dataset]['label'].keys())\n",
    "        num_classes = len(class_names)\n",
    "        if with_temp:\n",
    "            _, val_loader = get_medmnist_loaders(dataset, batch_size=128, num_workers=6)\n",
    "            \n",
    "    else:\n",
    "        data_path = osp.join('data', dataset)\n",
    "        csv_test = osp.join('data', 'test_'+dataset+'.csv')\n",
    "        tg_size = 224,224\n",
    "        if dataset=='kather': tg_size=150,150\n",
    "        test_loader  = get_class_test_loader(csv_test, data_path, tg_size, blur=blur, batch_size=64, num_workers=6)\n",
    "        num_classes = len(test_loader.dataset.classes)\n",
    "        class_names = ['C{}_probs'.format(i) for i in range(num_classes)]\n",
    "        if with_temp:\n",
    "            csv_train, csv_val = csv_test.replace('test', 'train'), csv_test.replace('test', 'val')\n",
    "            _ , val_loader = get_class_loaders(csv_train, csv_val, data_path, tg_size, \n",
    "                                               batch_size=64, num_workers=6, see_classes=False)\n",
    "        \n",
    "    load_path = osp.join('experiments', dataset, method)\n",
    "    \n",
    "    ########################\n",
    "    # results for individual models\n",
    "    ########################    \n",
    "    if model_name=='resnet18':\n",
    "        load_path_this = osp.join(load_path, 'r18_f')\n",
    "    elif model_name=='resnet34':\n",
    "        load_path_this = osp.join(load_path, 'r34_f')\n",
    "    elif model_name=='convnext':\n",
    "        load_path_this = osp.join(load_path, 'cnx_f')        \n",
    "    elif model_name=='resnet50':\n",
    "        load_path_this = osp.join(load_path, 'r50_f')\n",
    "    elif model_name=='mobilenet_v2':\n",
    "        load_path_this = osp.join(load_path, 'm2_f')\n",
    "    elif model_name=='swin':\n",
    "        load_path_this = osp.join(load_path, 'swt_f')\n",
    "    model = get_arch(model_name, num_classes)\n",
    "    checkpoint_list = [osp.join(load_path_this + str(i), 'model_checkpoint.pth') for i in [0, 1, 2, 3, 4]]\n",
    "    states = [torch.load(c,  map_location=device) for c in checkpoint_list]\n",
    "    \n",
    "    all_probs = []\n",
    "    # Do inference for each model\n",
    "    with torch.inference_mode():\n",
    "        for i in range(len(states)):\n",
    "            state=states[i]\n",
    "            model.load_state_dict(state['model_state_dict'])\n",
    "            if with_temp:\n",
    "                tempered_model = ModelWithTemperature(model, num_classes, log=False).set_temperature(\n",
    "                    val_loader, cross_validate='ece')\n",
    "                probs, labels = test_cls(tempered_model, test_loader, device)\n",
    "            else:\n",
    "                probs, labels = test_cls(model, test_loader, device)\n",
    "            all_probs.append(probs)\n",
    "    \n",
    "    ece = MulticlassCalibrationError(num_classes=num_classes, n_bins=n_bins, norm='l1')\n",
    "    \n",
    "\n",
    "    accs, aucs, eces, yaces, ces= [],[],[],[],[]\n",
    "    for probs in all_probs:\n",
    "        preds = np.argmax(probs, axis=1)\n",
    "        test_auc, test_f1, test_acc, test_auc_all, test_f1_all = evaluate_cls(labels, preds, probs, \n",
    "                                                                              print_conf=False)\n",
    "        e = ece(torch.from_numpy(probs), torch.from_numpy(labels)).item()        \n",
    "        ce = log_loss(labels,probs)\n",
    "        y = YACE(labels, probs, metric=yace_metric)\n",
    "        \n",
    "        aucs.append(100*test_auc)\n",
    "        accs.append(100*test_acc)\n",
    "        eces.append(100*e)\n",
    "        yaces.append(100*y)\n",
    "        ces.append(100*ce)\n",
    " \n",
    "    ########################\n",
    "    # print average results\n",
    "    ######################## \n",
    "    print('AUC={:.2f}+/-{:.2f}, ACC={:.2f}+/-{:.2f}, ECE={:.2f}+/-{:.2f}, \\\n",
    "YACE={:.2f}+/-{:.2f}, CE={:.2f}+/-{:.2f}'.format(\n",
    "np.mean(aucs), np.std(aucs), np.mean(accs), np.std(accs), np.mean(eces), np.std(eces), \n",
    "        np.mean(yaces), np.std(yaces), np.mean(ces), np.std(ces)))\n",
    "\n",
    "    if with_ens:\n",
    "        ########################\n",
    "        # results for ensemble\n",
    "        ########################  \n",
    "        ens_probs = np.mean(all_probs, axis=0)\n",
    "        ens_preds = np.argmax(ens_probs, axis=1)\n",
    "        test_auc, test_f1, test_acc, test_auc_all, test_f1_all = evaluate_cls(labels, ens_preds, ens_probs, \n",
    "                                                                              print_conf=False)\n",
    "        e = ece(torch.from_numpy(ens_probs), torch.from_numpy(labels)).item()\n",
    "        y = YACE(labels, probs, metric=yace_metric)\n",
    "        ce = log_loss(labels,ens_probs)\n",
    "\n",
    "        print(30*'-')\n",
    "        print('DEEP ENSEMBLES:')\n",
    "        print('AUC={:.2f}, ACC={:.2f}, ECE={:.2f}, YACE={:.2f}, CE={:.2f}'.format(\n",
    "               100*test_auc,100*test_acc,100*e,100*y,100*ce))\n",
    "        \n",
    "    mtrcs = [np.mean(aucs), np.mean(accs), np.mean(eces), np.mean(ces)]\n",
    "    if with_ens:\n",
    "        return mtrcs, [100*test_auc, 100*test_acc, 100*e, 100*ce]\n",
    "    return mtrcs"
   ]
  },
  {
   "cell_type": "code",
   "execution_count": 18,
   "id": "2e366dfc",
   "metadata": {},
   "outputs": [],
   "source": [
    "def print_results_multi_head(dataset=None, model_name='resnet18', bal=False, \n",
    "                             n_bins=15, yace_metric=acc, nh=2, blur=0):\n",
    "    assert dataset is not None\n",
    "    \n",
    "    use_cuda = torch.cuda.is_available()\n",
    "    device = torch.device('cuda:0' if use_cuda else 'cpu')\n",
    "#     # reproducibility\n",
    "    seed=0\n",
    "    set_seed(seed, use_cuda)\n",
    "    if model_name in ['convnext', 'swin']:\n",
    "        torch.use_deterministic_algorithms(False)\n",
    "        torch.backends.cudnn.deterministic = True\n",
    "\n",
    "    assert dataset in ['chaoyang', 'kather', 'kvasir', 'pathmnist', 'retinamnist', 'dermamnist',\n",
    "                       'busi', 'gbcu', 'mhist', \n",
    "                       'breakhist_40x','breakhist_100x','breakhist_200x','breakhist_400x']\n",
    "    \n",
    "\n",
    "    if 'mnist' in dataset:\n",
    "        tg_size = 28 if model_name !='convnext' else 32\n",
    "        test_loader = get_medmnist_test_loader(dataset, batch_size=128, num_workers=6, tg_size=tg_size)\n",
    "        class_names = list(medmnist.INFO[dataset]['label'].keys())\n",
    "        num_classes = len(class_names)\n",
    "\n",
    "    else:\n",
    "        data_path = osp.join('data', dataset)\n",
    "        csv_test = osp.join('data', 'test_'+dataset+'.csv')\n",
    "\n",
    "        tg_size = 224,224\n",
    "        if dataset=='kather': tg_size=150,150\n",
    "            \n",
    "        test_loader  = get_class_test_loader(csv_test, data_path, tg_size, blur=blur, batch_size=64, num_workers=6)\n",
    "        num_classes = len(test_loader.dataset.classes)\n",
    "        class_names = ['C{}_probs'.format(i) for i in range(num_classes)]\n",
    "\n",
    "    \n",
    "    load_path = osp.join('experiments', dataset, '{}hs_new'.format(str(nh))) # w_max=2\n",
    "    \n",
    "    ########################################################################\n",
    "    load_path = osp.join('experiments', dataset, '{}hs'.format(str(nh)))     # old w_max=3/2\n",
    "    load_path = osp.join('experiments', dataset, '{}hs_new'.format(str(nh))) # new w_max=4\n",
    "    ########################################################################    \n",
    "    \n",
    "    \n",
    "    if bal==True:\n",
    "        load_path = load_path.replace('2hs_new', '2hs_bal_new')\n",
    "    \n",
    "    if model_name=='resnet18':\n",
    "        load_path_this = osp.join(load_path, 'r18_f')\n",
    "    elif model_name=='resnet34':\n",
    "        load_path_this = osp.join(load_path, 'r34_f')\n",
    "    elif model_name=='convnext':\n",
    "        load_path_this = osp.join(load_path, 'cnx_f')\n",
    "    elif model_name=='resnet50':\n",
    "        load_path_this = osp.join(load_path, 'r50_f')\n",
    "    elif model_name=='mobilenet_v2':\n",
    "        load_path_this = osp.join(load_path, 'm2_f')\n",
    "    elif model_name=='swin':\n",
    "        load_path_this = osp.join(load_path, 'swt_f')\n",
    "\n",
    "    ########################\n",
    "    # results for multi-head\n",
    "    ########################\n",
    "    model = get_arch(model_name, num_classes, n_heads=nh, spe=False)\n",
    "    checkpoint_list = [osp.join(load_path_this + str(i), 'model_checkpoint.pth') for i in [0, 1, 2, 3, 4]]\n",
    "    states = [torch.load(c,  map_location=device) for c in checkpoint_list]\n",
    "    #print('* Loading model {} from {}'.format(model_name, load_path_this[:-2]))\n",
    "    all_probs = []\n",
    "    # Do inference on val data\n",
    "    with torch.inference_mode():\n",
    "        for i in range(len(states)):\n",
    "            state=states[i]        \n",
    "            model.load_state_dict(state['model_state_dict'])\n",
    "            probs, labels = test_cls_multihead(model, test_loader, device)\n",
    "            all_probs.append(probs)\n",
    "    \n",
    "    ece = MulticlassCalibrationError(num_classes=num_classes, n_bins=15, norm='l1')\n",
    "\n",
    "    \n",
    "    accs, aucs, eces, yaces, ces= [],[],[],[],[]\n",
    "    for probs in all_probs:\n",
    "        preds = np.argmax(probs, axis=1)\n",
    "        test_auc, test_f1, test_acc, test_auc_all, test_f1_all = evaluate_cls(labels, preds, probs, \n",
    "                                                                              print_conf=False)\n",
    "        e = ece(torch.from_numpy(probs), torch.from_numpy(labels)).item()\n",
    "        y = YACE(labels, probs, metric=yace_metric)\n",
    "        ce = log_loss(labels,probs)                \n",
    "        aucs.append(100*test_auc)\n",
    "        accs.append(100*test_acc)\n",
    "        eces.append(100*e)\n",
    "        yaces.append(100*y)\n",
    "        ces.append(100*ce)\n",
    "        \n",
    "    ########################\n",
    "    # print average results\n",
    "    ######################## \n",
    "    print('AUC={:.2f}+/-{:.2f}, ACC={:.2f}+/-{:.2f}, ECE={:.2f}+/-{:.2f}, \\\n",
    "YACE={:.2f}+/-{:.2f}, CE={:.2f}+/-{:.2f}'.format(\n",
    "np.mean(aucs), np.std(aucs), np.mean(accs), np.std(accs), np.mean(eces), np.std(eces), \n",
    "        np.mean(yaces), np.std(yaces), np.mean(ces), np.std(ces)))\n",
    "    \n",
    "    mtrcs = [np.mean(aucs), np.mean(accs), np.mean(eces), np.mean(ces)]\n",
    "    return mtrcs"
   ]
  },
  {
   "cell_type": "code",
   "execution_count": 19,
   "id": "a5fa0633",
   "metadata": {},
   "outputs": [],
   "source": [
    "from sklearn.metrics import accuracy_score as acc"
   ]
  },
  {
   "cell_type": "code",
   "execution_count": null,
   "id": "a8f8245a",
   "metadata": {},
   "outputs": [],
   "source": [
    "def print_all(dataset, model_name, yace_metric=acc):\n",
    "    metrcs = dict()\n",
    "    print(60*'=')\n",
    "    print('Single Head (avg) and Ensembles')\n",
    "    print(60*'=')\n",
    "\n",
    "    metrcs['std'], metrcs['ens'] = \\\n",
    "    print_results_multi_fold(dataset, model_name, with_ens=True, yace_metric=yace_metric)\n",
    "\n",
    "    # LS\n",
    "    print('\\n')\n",
    "    print(60*'=')\n",
    "    print('LS gamma=0.05: Single Head (avg) and Ensembles')\n",
    "    print(60*'=')\n",
    "    metrcs['ls_005'] = \\\n",
    "    print_results_multi_fold(dataset, model_name, method='ls_005', with_ens=False, yace_metric=yace_metric)\n",
    "\n",
    "    # MbLS\n",
    "    print('\\n')\n",
    "    print(60*'=')\n",
    "    print('MbLS m=6: Single Head (avg) and Ensembles')\n",
    "    print(60*'=')\n",
    "    metrcs['mbls_6'] = \\\n",
    "    print_results_multi_fold(dataset, model_name, method='mbls_6', with_ens=False, yace_metric=yace_metric)\n",
    "    \n",
    "    # MIXUP\n",
    "    print('\\n')   \n",
    "    print(60*'=')\n",
    "    print('MixUp gamma=0.2: Single Head (avg) and Ensembles')\n",
    "    print(60*'=')\n",
    "    metrcs['mxp_02'] = \\\n",
    "    print_results_multi_fold(dataset, model_name, method='mxp_02', with_ens=False, yace_metric=yace_metric)\n",
    "\n",
    "    # DCA\n",
    "    print('\\n')   \n",
    "    print(60*'=')\n",
    "    print('DCA: Single Head (avg) and Ensembles')\n",
    "    print(60*'=')\n",
    "    metrcs['dca'] = \\\n",
    "    print_results_multi_fold(dataset, model_name, method='dca', with_ens=False, yace_metric=yace_metric)\n",
    "\n",
    "    # Two-Headed\n",
    "    print('\\n') \n",
    "    print(60*'=')\n",
    "    print('Unperturbed ByCephal')\n",
    "    print(60*'=')\n",
    "    metrcs['mh'] = \\\n",
    "    print_results_multi_head(dataset, model_name, bal=True, yace_metric=yace_metric)\n",
    "\n",
    "#     # Two-Headed\n",
    "    print(60*'*')\n",
    "    print('Perturbed ByCephal')\n",
    "    print(60*'*')\n",
    "    metrcs['pmh'] = \\\n",
    "    print_results_multi_head(dataset, model_name, yace_metric=yace_metric)\n",
    "\n",
    "#     # 4-Headed    \n",
    "    print(60*'*')\n",
    "    print('Perturbed 4Cephal')\n",
    "    print(60*'*')\n",
    "    metrcs['pmh4'] = \\\n",
    "    print_results_multi_head(dataset, model_name, yace_metric=yace_metric, nh=4)\n",
    "    \n",
    "    return metrcs"
   ]
  },
  {
   "cell_type": "code",
   "execution_count": null,
   "id": "42fb6a21",
   "metadata": {},
   "outputs": [],
   "source": [
    "from sklearn.metrics import balanced_accuracy_score as balacc\n",
    "from sklearn.metrics import matthews_corrcoef as mcc\n",
    "\n",
    "yace_metric=balacc\n",
    "# yace_metric=mcc"
   ]
  },
  {
   "cell_type": "markdown",
   "id": "aaaaeb68",
   "metadata": {},
   "source": [
    "np.mean(aucs), np.mean(accs), np.mean(eces), np.mean(ces)"
   ]
  },
  {
   "cell_type": "code",
   "execution_count": null,
   "id": "bd13b8d4",
   "metadata": {},
   "outputs": [],
   "source": [
    "def fill_rows(col_model_dict, col1, col2, col3, col4, strings):\n",
    "    oneh_str, DE_str, LS_str, MbLS_str, Mxp_str, DCA_str, mh_str, p2h_str, p4h_str = strings\n",
    "    a, b, c = 1, 2, 3\n",
    "    oneh_str=oneh_str.replace(col1, '{:.2f}'.format(col_model_dict['std'][a]))\n",
    "    oneh_str=oneh_str.replace(col2, '{:.2f}'.format(col_model_dict['std'][b]))\n",
    "    oneh_str=oneh_str.replace(col3,  '{:.2f}'.format(col_model_dict['std'][c]))\n",
    "    oneh_str=oneh_str.replace(col4,  '{:.1f}'.format(col_model_dict['std'][-1]))\n",
    "    \n",
    "    DE_str=DE_str.replace(col1, '{:.2f}'.format(col_model_dict['ens'][a]))\n",
    "    DE_str=DE_str.replace(col2, '{:.2f}'.format(col_model_dict['ens'][b]))\n",
    "    DE_str=DE_str.replace(col3,  '{:.2f}'.format(col_model_dict['ens'][c]))\n",
    "    DE_str=DE_str.replace(col4,  '{:.1f}'.format(col_model_dict['ens'][-1]))\n",
    "\n",
    "    LS_str=LS_str.replace(col1, '{:.2f}'.format(col_model_dict['ls_005'][a]))\n",
    "    LS_str=LS_str.replace(col2, '{:.2f}'.format(col_model_dict['ls_005'][b]))\n",
    "    LS_str=LS_str.replace(col3,  '{:.2f}'.format(col_model_dict['ls_005'][c]))\n",
    "    LS_str=LS_str.replace(col4,  '{:.1f}'.format(col_model_dict['ls_005'][-1]))\n",
    "\n",
    "    MbLS_str=MbLS_str.replace(col1, '{:.2f}'.format(col_model_dict['mbls_6'][a]))\n",
    "    MbLS_str=MbLS_str.replace(col2, '{:.2f}'.format(col_model_dict['mbls_6'][b]))\n",
    "    MbLS_str=MbLS_str.replace(col3,  '{:.2f}'.format(col_model_dict['mbls_6'][c]))\n",
    "    MbLS_str=MbLS_str.replace(col4,  '{:.1f}'.format(col_model_dict['mbls_6'][-1]))\n",
    "\n",
    "    Mxp_str=Mxp_str.replace(col1, '{:.2f}'.format(col_model_dict['mxp_02'][a]))\n",
    "    Mxp_str=Mxp_str.replace(col2, '{:.2f}'.format(col_model_dict['mxp_02'][b]))\n",
    "    Mxp_str=Mxp_str.replace(col3,  '{:.2f}'.format(col_model_dict['mxp_02'][c]))\n",
    "    Mxp_str=Mxp_str.replace(col4,  '{:.1f}'.format(col_model_dict['mxp_02'][-1]))\n",
    "\n",
    "    DCA_str=DCA_str.replace(col1, '{:.2f}'.format(col_model_dict['dca'][a]))\n",
    "    DCA_str=DCA_str.replace(col2, '{:.2f}'.format(col_model_dict['dca'][b]))\n",
    "    DCA_str=DCA_str.replace(col3,  '{:.2f}'.format(col_model_dict['dca'][c]))\n",
    "    DCA_str=DCA_str.replace(col4,  '{:.1f}'.format(col_model_dict['dca'][-1]))\n",
    "\n",
    "    mh_str=mh_str.replace(col1, '{:.2f}'.format(col_model_dict['mh'][a]))\n",
    "    mh_str=mh_str.replace(col2, '{:.2f}'.format(col_model_dict['mh'][b]))\n",
    "    mh_str=mh_str.replace(col3,  '{:.2f}'.format(col_model_dict['mh'][c]))\n",
    "    mh_str=mh_str.replace(col4,  '{:.1f}'.format(col_model_dict['mh'][-1]))\n",
    "\n",
    "    p2h_str=p2h_str.replace(col1, '{:.2f}'.format(col_model_dict['pmh'][a]))\n",
    "    p2h_str=p2h_str.replace(col2, '{:.2f}'.format(col_model_dict['pmh'][b]))\n",
    "    p2h_str=p2h_str.replace(col3,  '{:.2f}'.format(col_model_dict['pmh'][c]))\n",
    "    p2h_str=p2h_str.replace(col4,  '{:.1f}'.format(col_model_dict['pmh'][-1]))\n",
    "\n",
    "    p4h_str=p4h_str.replace(col1, '{:.2f}'.format(col_model_dict['pmh4'][a]))\n",
    "    p4h_str=p4h_str.replace(col2, '{:.2f}'.format(col_model_dict['pmh4'][b]))\n",
    "    p4h_str=p4h_str.replace(col3,  '{:.2f}'.format(col_model_dict['pmh4'][c])) \n",
    "    p4h_str=p4h_str.replace(col4,  '{:.1f}'.format(col_model_dict['pmh4'][-1])) \n",
    "    \n",
    "    return oneh_str, DE_str, LS_str, MbLS_str, Mxp_str, DCA_str, mh_str, p2h_str, p4h_str"
   ]
  },
  {
   "cell_type": "code",
   "execution_count": null,
   "id": "1a3f5c36",
   "metadata": {},
   "outputs": [],
   "source": [
    "def add_acc_ece_combined_ranks(dic):\n",
    "    dic_acc = {key:value[1] for (key,value) in dic.items()} #acc\n",
    "    # False for lower is better, True for higher is better\n",
    "    dic_rank_acc = {key: rank for rank, key in enumerate(sorted(dic_acc, key=dic_acc.get, reverse=True), 1)}\n",
    "       \n",
    "    dic_ece = {key:value[2] for (key,value) in dic.items()}\n",
    "    dic_rank_ece = {key: rank for rank, key in enumerate(sorted(dic_ece, key=dic_ece.get, reverse=False), 1)}\n",
    "\n",
    "    dic_nll = {key:value[3] for (key,value) in dic.items()}\n",
    "    # False for lower is better, True for higher is better\n",
    "    dic_rank_nll = {key: rank for rank, key in enumerate(sorted(dic_nll, key=dic_nll.get, reverse=False), 1)}\n",
    "\n",
    "    \n",
    "    for key in dic:\n",
    "        dic[key].extend([dic_rank_acc[key], dic_rank_ece[key], dic_rank_nll[key],\n",
    "                         np.mean([dic_rank_acc[key], dic_rank_ece[key], dic_rank_nll[key]])])    \n",
    "    return dic"
   ]
  },
  {
   "cell_type": "markdown",
   "id": "8f240adf",
   "metadata": {},
   "source": [
    "# CHAOYANG"
   ]
  },
  {
   "cell_type": "code",
   "execution_count": null,
   "id": "f913cef7",
   "metadata": {},
   "outputs": [],
   "source": [
    "dataset='chaoyang'"
   ]
  },
  {
   "cell_type": "code",
   "execution_count": null,
   "id": "d95271b5",
   "metadata": {},
   "outputs": [],
   "source": [
    "def warn(*args, **kwargs):\n",
    "    pass\n",
    "import warnings\n",
    "warnings.warn = warn"
   ]
  },
  {
   "cell_type": "code",
   "execution_count": null,
   "id": "f7b298ce",
   "metadata": {
    "scrolled": true
   },
   "outputs": [],
   "source": [
    "# m_r18 = \\\n",
    "# print_all(dataset, 'resnet18', yace_metric=yace_metric) "
   ]
  },
  {
   "cell_type": "code",
   "execution_count": null,
   "id": "dbc9cfd0",
   "metadata": {},
   "outputs": [],
   "source": [
    "# m_mobilenet = \\\n",
    "# print_all(dataset, 'mobilenet_v2', yace_metric=yace_metric) "
   ]
  },
  {
   "cell_type": "code",
   "execution_count": null,
   "id": "75ae3779",
   "metadata": {},
   "outputs": [],
   "source": [
    "# m_r34 = \\\n",
    "# print_all(dataset, 'resnet34', yace_metric=yace_metric) "
   ]
  },
  {
   "cell_type": "code",
   "execution_count": null,
   "id": "104adccd",
   "metadata": {
    "scrolled": false
   },
   "outputs": [],
   "source": [
    "m_r50 = \\\n",
    "print_all(dataset, 'resnet50', yace_metric=yace_metric) "
   ]
  },
  {
   "cell_type": "code",
   "execution_count": null,
   "id": "2f798f8e",
   "metadata": {
    "scrolled": false
   },
   "outputs": [],
   "source": [
    "m_cvx = \\\n",
    "print_all(dataset, 'convnext', yace_metric=yace_metric)"
   ]
  },
  {
   "cell_type": "code",
   "execution_count": null,
   "id": "b5d8aade",
   "metadata": {
    "scrolled": false
   },
   "outputs": [],
   "source": [
    "m_swt = \\\n",
    "print_all(dataset, 'swin', yace_metric=yace_metric) "
   ]
  },
  {
   "cell_type": "code",
   "execution_count": null,
   "id": "3f488535",
   "metadata": {},
   "outputs": [],
   "source": [
    "# m_r18_with_ranks = add_acc_ece_combined_ranks(m_r18)\n",
    "m_r50_with_ranks = add_acc_ece_combined_ranks(m_r50)\n",
    "m_cvx_with_ranks = add_acc_ece_combined_ranks(m_cvx)\n",
    "m_swt_with_ranks = add_acc_ece_combined_ranks(m_swt)"
   ]
  },
  {
   "cell_type": "code",
   "execution_count": null,
   "id": "bec13ea0",
   "metadata": {},
   "outputs": [],
   "source": [
    "oneh_str  ='\\\\textbf{OneH}     & xx1 & xx2 & xx3 & xx4 & xx5 & xx6 & xx7 & xx8 & xx9 & x10 & x11 & x12 \\\\\\\\'\n",
    "DE_str    ='\\\\textbf{D-Ens}    & xx1 & xx2 & xx3 & xx4 & xx5 & xx6 & xx7 & xx8 & xx9 & x10 & x11 & x12 \\\\\\\\'\n",
    "LS_str    ='\\\\textbf{LS}       & xx1 & xx2 & xx3 & xx4 & xx5 & xx6 & xx7 & xx8 & xx9 & x10 & x11 & x12 \\\\\\\\'\n",
    "MbLS_str  ='\\\\textbf{MbLS}     & xx1 & xx2 & xx3 & xx4 & xx5 & xx6 & xx7 & xx8 & xx9 & x10 & x11 & x12 \\\\\\\\'\n",
    "Mxp_str   ='\\\\textbf{MixUp}    & xx1 & xx2 & xx3 & xx4 & xx5 & xx6 & xx7 & xx8 & xx9 & x10 & x11 & x12 \\\\\\\\'\n",
    "DCA_str   ='\\\\textbf{DCA}      & xx1 & xx2 & xx3 & xx4 & xx5 & xx6 & xx7 & xx8 & xx9 & x10 & x11 & x12 \\\\\\\\'\n",
    "mh_str    ='\\\\textbf{MH}       & xx1 & xx2 & xx3 & xx4 & xx5 & xx6 & xx7 & xx8 & xx9 & x10 & x11 & x12 \\\\\\\\'\n",
    "p2h_str   ='\\\\textbf{P2H}      & xx1 & xx2 & xx3 & xx4 & xx5 & xx6 & xx7 & xx8 & xx9 & x10 & x11 & x12 \\\\\\\\'\n",
    "p4h_str   ='\\\\textbf{P4H}      & xx1 & xx2 & xx3 & xx4 & xx5 & xx6 & xx7 & xx8 & xx9 & x10 & x11 & x12 \\\\\\\\'"
   ]
  },
  {
   "cell_type": "code",
   "execution_count": null,
   "id": "d22276ed",
   "metadata": {},
   "outputs": [],
   "source": [
    "strings = [oneh_str, DE_str, LS_str, MbLS_str, Mxp_str, DCA_str, mh_str, p2h_str, p4h_str]\n",
    "\n",
    "# strings = fill_rows(m_mobilenet, 'xx1', 'xx2', 'xx3', strings)\n",
    "# strings = fill_rows(m_r18, 'xx4', 'xx5', 'xx6', strings)\n",
    "# strings = fill_rows(m_r34, 'xx7', 'xx8', 'xx9', strings)\n",
    "# strings = fill_rows(m_r50, 'x10', 'x11', 'x12', strings)\n",
    "# strings = fill_rows(m_cvx, 'x13', 'x14', 'x15', strings)\n",
    "\n",
    "strings = fill_rows(m_r50, 'xx1', 'xx2', 'xx3', 'xx4', strings)\n",
    "strings = fill_rows(m_cvx, 'xx5', 'xx6', 'xx7', 'xx8', strings)\n",
    "strings = fill_rows(m_swt, 'xx9', 'x10', 'x11', 'x12', strings)\n",
    "\n",
    "oneh_str, DE_str, LS_str, MbLS_str, Mxp_str, DCA_str, mh_str, p2h_str, p4h_str = strings"
   ]
  },
  {
   "cell_type": "code",
   "execution_count": null,
   "id": "a7b66960",
   "metadata": {},
   "outputs": [],
   "source": [
    "caption = r'\\caption{Results on the \\textbf{Chaoyang dataset} with different architectures and strategies.\\\n",
    "For each model, \\unl{\\textbf{best}} and \\textbf{second best} ranks are marked.}\\label{chaoyang}'"
   ]
  },
  {
   "cell_type": "code",
   "execution_count": null,
   "id": "632907f5",
   "metadata": {},
   "outputs": [],
   "source": [
    "print('\\\\begin{table}[!t]')\n",
    "print('\\\\renewcommand{\\\\arraystretch}{1.03}')\n",
    "print('\\\\setlength\\\\tabcolsep{1.00pt}')\n",
    "print('\\\\begin{center}')\n",
    "print('\\\\begin{tabular}{c cccc cccc cccc}')\n",
    "print('& \\\\multicolumn{4}{c}{\\\\textbf{ResNet50}} & \\\\multicolumn{4}{c}{\\\\textbf{ConvNeXt}} & \\\\multicolumn{4}{c}{\\\\textbf{Swin-Transformer}} \\\\\\\\')\n",
    "print('\\\\cmidrule(lr){2-5} \\\\cmidrule(lr){6-9} \\\\cmidrule(lr){10-13} &  ACC$^\\\\uparrow$  &  ECE$_\\\\downarrow$  &  NLL$_\\\\downarrow$    &  Rank$_\\\\downarrow$  &  ACC$^\\\\uparrow$  &  ECE$_\\\\downarrow$  &  NLL$_\\\\downarrow$    &  Rank$_\\\\downarrow$    &  ACC$^\\\\uparrow$ &  ECE$_\\\\downarrow$  &  NLL$_\\\\downarrow$    &  Rank$_\\\\downarrow$\\\\\\\\')\n",
    "print('\\\\midrule')\n",
    "print(oneh_str)\n",
    "print('\\midrule')\n",
    "print(LS_str)\n",
    "print('\\midrule')\n",
    "print(MbLS_str)\n",
    "print('\\midrule')\n",
    "print(Mxp_str)\n",
    "print('\\midrule')\n",
    "# print(FL_str)\n",
    "# print('\\midrule')\n",
    "print(DCA_str)\n",
    "print('\\midrule')\n",
    "print('\\midrule')\n",
    "print(DE_str)\n",
    "print('\\midrule')\n",
    "print('\\midrule')\n",
    "print(mh_str)\n",
    "print('\\midrule')\n",
    "print(p2h_str)\n",
    "print('\\midrule')\n",
    "print(p4h_str)\n",
    "print('\\\\bottomrule')\n",
    "print('\\\\\\[-0.25cm]')\n",
    "print('\\\\end{tabular}')\n",
    "print(caption)\n",
    "print('\\\\end{center}')\n",
    "print('\\\\vspace{-1cm}')\n",
    "print('\\\\end{table}')"
   ]
  },
  {
   "cell_type": "markdown",
   "id": "b5947720",
   "metadata": {},
   "source": [
    "# Kvasir"
   ]
  },
  {
   "cell_type": "code",
   "execution_count": null,
   "id": "0185a6db",
   "metadata": {},
   "outputs": [],
   "source": [
    "dataset='kvasir'"
   ]
  },
  {
   "cell_type": "code",
   "execution_count": null,
   "id": "242d8b39",
   "metadata": {
    "scrolled": false
   },
   "outputs": [],
   "source": [
    "# m_r18 = \\\n",
    "# print_all(dataset, 'resnet18', yace_metric=yace_metric) # new 4/2"
   ]
  },
  {
   "cell_type": "code",
   "execution_count": null,
   "id": "aab7b369",
   "metadata": {},
   "outputs": [],
   "source": [
    "# m_mobilenet = \\\n",
    "# print_all(dataset, 'mobilenet_v2', yace_metric=yace_metric)  # new 4/2"
   ]
  },
  {
   "cell_type": "code",
   "execution_count": null,
   "id": "a298eace",
   "metadata": {},
   "outputs": [],
   "source": [
    "# m_r34 = \\\n",
    "# print_all(dataset, 'resnet34', yace_metric=yace_metric)  # new 4/2"
   ]
  },
  {
   "cell_type": "code",
   "execution_count": null,
   "id": "0f7d3e88",
   "metadata": {},
   "outputs": [],
   "source": [
    "m_cvx = \\\n",
    "print_all(dataset, 'convnext', yace_metric=yace_metric) # new w_max=4/2"
   ]
  },
  {
   "cell_type": "code",
   "execution_count": null,
   "id": "796561c1",
   "metadata": {},
   "outputs": [],
   "source": [
    "m_r50 = \\\n",
    "print_all(dataset, 'resnet50', yace_metric=yace_metric)"
   ]
  },
  {
   "cell_type": "code",
   "execution_count": null,
   "id": "f2741ee3",
   "metadata": {
    "scrolled": false
   },
   "outputs": [],
   "source": [
    "m_swt = \\\n",
    "print_all(dataset, 'swin', yace_metric=yace_metric)"
   ]
  },
  {
   "cell_type": "code",
   "execution_count": null,
   "id": "aacfe124",
   "metadata": {},
   "outputs": [],
   "source": [
    "oneh_str  ='\\\\textbf{OneH}     & xx1 & xx2 & xx3 & xx4 & xx5 & xx6 & xx7 & xx8 & xx9 & x10 & x11 & x12 \\\\\\\\'\n",
    "DE_str    ='\\\\textbf{D-Ens}    & xx1 & xx2 & xx3 & xx4 & xx5 & xx6 & xx7 & xx8 & xx9 & x10 & x11 & x12 \\\\\\\\'\n",
    "LS_str    ='\\\\textbf{LS}       & xx1 & xx2 & xx3 & xx4 & xx5 & xx6 & xx7 & xx8 & xx9 & x10 & x11 & x12 \\\\\\\\'\n",
    "MbLS_str  ='\\\\textbf{MbLS}     & xx1 & xx2 & xx3 & xx4 & xx5 & xx6 & xx7 & xx8 & xx9 & x10 & x11 & x12 \\\\\\\\'\n",
    "Mxp_str   ='\\\\textbf{MixUp}    & xx1 & xx2 & xx3 & xx4 & xx5 & xx6 & xx7 & xx8 & xx9 & x10 & x11 & x12 \\\\\\\\'\n",
    "DCA_str   ='\\\\textbf{DCA}      & xx1 & xx2 & xx3 & xx4 & xx5 & xx6 & xx7 & xx8 & xx9 & x10 & x11 & x12 \\\\\\\\'\n",
    "mh_str    ='\\\\textbf{MH}       & xx1 & xx2 & xx3 & xx4 & xx5 & xx6 & xx7 & xx8 & xx9 & x10 & x11 & x12 \\\\\\\\'\n",
    "p2h_str   ='\\\\textbf{P2H}      & xx1 & xx2 & xx3 & xx4 & xx5 & xx6 & xx7 & xx8 & xx9 & x10 & x11 & x12 \\\\\\\\'\n",
    "p4h_str   ='\\\\textbf{P4H}      & xx1 & xx2 & xx3 & xx4 & xx5 & xx6 & xx7 & xx8 & xx9 & x10 & x11 & x12 \\\\\\\\'"
   ]
  },
  {
   "cell_type": "code",
   "execution_count": null,
   "id": "d9d950c5",
   "metadata": {},
   "outputs": [],
   "source": [
    "m_r50_with_ranks = add_acc_ece_combined_ranks(m_r50)\n",
    "m_cvx_with_ranks = add_acc_ece_combined_ranks(m_cvx)\n",
    "m_swt_with_ranks = add_acc_ece_combined_ranks(m_swt)"
   ]
  },
  {
   "cell_type": "code",
   "execution_count": null,
   "id": "58be0c8d",
   "metadata": {},
   "outputs": [],
   "source": [
    "strings = [oneh_str, DE_str, LS_str, MbLS_str, Mxp_str, DCA_str, mh_str, p2h_str, p4h_str]\n",
    "\n",
    "# strings = fill_rows(m_mobilenet, 'xx1', 'xx2', 'xx3', strings)\n",
    "# strings = fill_rows(m_r18, 'xx4', 'xx5', 'xx6', strings)\n",
    "# strings = fill_rows(m_r34, 'xx7', 'xx8', 'xx9', strings)\n",
    "# strings = fill_rows(m_r50, 'x10', 'x11', 'x12', strings)\n",
    "# strings = fill_rows(m_cvx, 'x13', 'x14', 'x15', strings)\n",
    "\n",
    "strings = fill_rows(m_r50, 'xx1', 'xx2', 'xx3', 'xx4', strings)\n",
    "strings = fill_rows(m_cvx, 'xx5', 'xx6', 'xx7', 'xx8', strings)\n",
    "strings = fill_rows(m_swt, 'xx9', 'x10', 'x11', 'x12', strings)\n",
    "\n",
    "\n",
    "oneh_str, DE_str, LS_str, MbLS_str, Mxp_str, DCA_str, mh_str, p2h_str, p4h_str = strings"
   ]
  },
  {
   "cell_type": "code",
   "execution_count": null,
   "id": "e3a702d2",
   "metadata": {},
   "outputs": [],
   "source": [
    "caption = r'\\caption{Results on the \\textbf{Kvasir dataset} with different architectures and strategies.\\\n",
    "For each model, \\unl{\\textbf{best}} and \\textbf{second best} ranks are marked.}\\label{kvasir}'"
   ]
  },
  {
   "cell_type": "code",
   "execution_count": null,
   "id": "c4c0e41e",
   "metadata": {},
   "outputs": [],
   "source": [
    "print('\\\\begin{table}[!t]')\n",
    "print('\\\\renewcommand{\\\\arraystretch}{1.03}')\n",
    "print('\\\\setlength\\\\tabcolsep{1.00pt}')\n",
    "print('\\\\begin{center}')\n",
    "print('\\\\begin{tabular}{c cccc cccc cccc}')\n",
    "print('& \\\\multicolumn{4}{c}{\\\\textbf{ResNet50}} & \\\\multicolumn{4}{c}{\\\\textbf{ConvNeXt}} & \\\\multicolumn{4}{c}{\\\\textbf{Swin-Transformer}} \\\\\\\\')\n",
    "print('\\\\cmidrule(lr){2-5} \\\\cmidrule(lr){6-9} \\\\cmidrule(lr){10-13} &  ACC$^\\\\uparrow$  &  ECE$_\\\\downarrow$  &  NLL$_\\\\downarrow$    &  Rank$_\\\\downarrow$  &  ACC$^\\\\uparrow$  &  ECE$_\\\\downarrow$  &  NLL$_\\\\downarrow$    &  Rank$_\\\\downarrow$    &  ACC$^\\\\uparrow$ &  ECE$_\\\\downarrow$  &  NLL$_\\\\downarrow$    &  Rank$_\\\\downarrow$\\\\\\\\')\n",
    "print('\\\\midrule')\n",
    "print(oneh_str)\n",
    "print('\\midrule')\n",
    "print(LS_str)\n",
    "print('\\midrule')\n",
    "print(MbLS_str)\n",
    "print('\\midrule')\n",
    "print(Mxp_str)\n",
    "print('\\midrule')\n",
    "# print(FL_str)\n",
    "# print('\\midrule')\n",
    "print(DCA_str)\n",
    "print('\\midrule')\n",
    "print('\\midrule')\n",
    "print(DE_str)\n",
    "print('\\midrule')\n",
    "print('\\midrule')\n",
    "print(mh_str)\n",
    "print('\\midrule')\n",
    "print(p2h_str)\n",
    "print('\\midrule')\n",
    "print(p4h_str)\n",
    "print('\\\\bottomrule')\n",
    "print('\\\\\\[-0.25cm]')\n",
    "print('\\\\end{tabular}')\n",
    "print(caption)\n",
    "print('\\\\end{center}')\n",
    "print('\\\\vspace{-1cm}')\n",
    "print('\\\\end{table}')"
   ]
  },
  {
   "cell_type": "markdown",
   "id": "55b2270e",
   "metadata": {},
   "source": [
    "# Pathmnist"
   ]
  },
  {
   "cell_type": "code",
   "execution_count": null,
   "id": "1e5bb18a",
   "metadata": {},
   "outputs": [],
   "source": [
    "dataset='pathmnist'"
   ]
  },
  {
   "cell_type": "code",
   "execution_count": null,
   "id": "6da2548e",
   "metadata": {},
   "outputs": [],
   "source": [
    "# m_r18 = \\\n",
    "# print_all(dataset, 'resnet18', yace_metric=yace_metric) # new w_max=4/2"
   ]
  },
  {
   "cell_type": "code",
   "execution_count": null,
   "id": "a8c39c41",
   "metadata": {},
   "outputs": [],
   "source": [
    "# m_mobilenet = \\\n",
    "# print_all(dataset, 'mobilenet_v2', yace_metric=yace_metric) # new w_max=4/2"
   ]
  },
  {
   "cell_type": "code",
   "execution_count": null,
   "id": "5e58428b",
   "metadata": {},
   "outputs": [],
   "source": [
    "# m_r34 = \\\n",
    "# print_all(dataset, 'resnet34', yace_metric=yace_metric) # new w_max=4/2"
   ]
  },
  {
   "cell_type": "code",
   "execution_count": null,
   "id": "6edffc46",
   "metadata": {
    "scrolled": false
   },
   "outputs": [],
   "source": [
    "m_r50 = \\\n",
    "print_all(dataset, 'resnet50', yace_metric=yace_metric)"
   ]
  },
  {
   "cell_type": "code",
   "execution_count": null,
   "id": "10bd9943",
   "metadata": {
    "scrolled": false
   },
   "outputs": [],
   "source": [
    "m_cvx = \\\n",
    "print_all(dataset, 'convnext', yace_metric=yace_metric) # new w_max=4/2"
   ]
  },
  {
   "cell_type": "code",
   "execution_count": null,
   "id": "3c4a5e8e",
   "metadata": {
    "scrolled": false
   },
   "outputs": [],
   "source": [
    "m_swt = \\\n",
    "print_all(dataset, 'swin', yace_metric=yace_metric)"
   ]
  },
  {
   "cell_type": "code",
   "execution_count": null,
   "id": "db659b56",
   "metadata": {},
   "outputs": [],
   "source": [
    "m_r50_with_ranks = add_acc_ece_combined_ranks(m_r50)\n",
    "m_cvx_with_ranks = add_acc_ece_combined_ranks(m_cvx)\n",
    "m_swt_with_ranks = add_acc_ece_combined_ranks(m_swt)"
   ]
  },
  {
   "cell_type": "code",
   "execution_count": null,
   "id": "c2ea7bd5",
   "metadata": {},
   "outputs": [],
   "source": [
    "oneh_str  ='\\\\textbf{OneH}     & xx1 & xx2 & xx3 & xx4 & xx5 & xx6 & xx7 & xx8 & xx9 & x10 & x11 & x12 \\\\\\\\'\n",
    "DE_str    ='\\\\textbf{D-Ens}    & xx1 & xx2 & xx3 & xx4 & xx5 & xx6 & xx7 & xx8 & xx9 & x10 & x11 & x12 \\\\\\\\'\n",
    "LS_str    ='\\\\textbf{LS}       & xx1 & xx2 & xx3 & xx4 & xx5 & xx6 & xx7 & xx8 & xx9 & x10 & x11 & x12 \\\\\\\\'\n",
    "MbLS_str  ='\\\\textbf{MbLS}     & xx1 & xx2 & xx3 & xx4 & xx5 & xx6 & xx7 & xx8 & xx9 & x10 & x11 & x12 \\\\\\\\'\n",
    "Mxp_str   ='\\\\textbf{MixUp}    & xx1 & xx2 & xx3 & xx4 & xx5 & xx6 & xx7 & xx8 & xx9 & x10 & x11 & x12 \\\\\\\\'\n",
    "DCA_str   ='\\\\textbf{DCA}      & xx1 & xx2 & xx3 & xx4 & xx5 & xx6 & xx7 & xx8 & xx9 & x10 & x11 & x12 \\\\\\\\'\n",
    "mh_str    ='\\\\textbf{MH}       & xx1 & xx2 & xx3 & xx4 & xx5 & xx6 & xx7 & xx8 & xx9 & x10 & x11 & x12 \\\\\\\\'\n",
    "p2h_str   ='\\\\textbf{P2H}      & xx1 & xx2 & xx3 & xx4 & xx5 & xx6 & xx7 & xx8 & xx9 & x10 & x11 & x12 \\\\\\\\'\n",
    "p4h_str   ='\\\\textbf{P4H}      & xx1 & xx2 & xx3 & xx4 & xx5 & xx6 & xx7 & xx8 & xx9 & x10 & x11 & x12 \\\\\\\\'"
   ]
  },
  {
   "cell_type": "code",
   "execution_count": null,
   "id": "f033224b",
   "metadata": {},
   "outputs": [],
   "source": [
    "strings = [oneh_str, DE_str, LS_str, MbLS_str, Mxp_str, DCA_str, mh_str, p2h_str, p4h_str]\n",
    "\n",
    "# strings = fill_rows(m_mobilenet, 'xx1', 'xx2', 'xx3', strings)\n",
    "# strings = fill_rows(m_r18, 'xx4', 'xx5', 'xx6', strings)\n",
    "# strings = fill_rows(m_r34, 'xx7', 'xx8', 'xx9', strings)\n",
    "# strings = fill_rows(m_r50, 'x10', 'x11', 'x12', strings)\n",
    "# strings = fill_rows(m_cvx, 'x13', 'x14', 'x15', strings)\n",
    "\n",
    "strings = fill_rows(m_r50, 'xx1', 'xx2', 'xx3', 'xx4', strings)\n",
    "strings = fill_rows(m_cvx, 'xx5', 'xx6', 'xx7', 'xx8', strings)\n",
    "strings = fill_rows(m_swt, 'xx9', 'x10', 'x11', 'x12', strings)\n",
    "\n",
    "\n",
    "oneh_str, DE_str, LS_str, MbLS_str, Mxp_str, DCA_str, mh_str, p2h_str, p4h_str = strings"
   ]
  },
  {
   "cell_type": "code",
   "execution_count": null,
   "id": "a5324e04",
   "metadata": {},
   "outputs": [],
   "source": [
    "caption = r'\\caption{Results on the \\textbf{PathMnist dataset} with different architectures and strategies.\\\n",
    "For each model, \\unl{\\textbf{best}} and \\textbf{second best} ranks are marked.}\\label{pathmnist}'"
   ]
  },
  {
   "cell_type": "code",
   "execution_count": null,
   "id": "28dcfa0a",
   "metadata": {},
   "outputs": [],
   "source": [
    "print('\\\\begin{table}[!t]')\n",
    "print('\\\\renewcommand{\\\\arraystretch}{1.03}')\n",
    "print('\\\\setlength\\\\tabcolsep{1.00pt}')\n",
    "print('\\\\begin{center}')\n",
    "print('\\\\begin{tabular}{c cccc cccc cccc}')\n",
    "print('& \\\\multicolumn{4}{c}{\\\\textbf{ResNet50}} & \\\\multicolumn{4}{c}{\\\\textbf{ConvNeXt}} & \\\\multicolumn{4}{c}{\\\\textbf{Swin-Transformer}} \\\\\\\\')\n",
    "print('\\\\cmidrule(lr){2-5} \\\\cmidrule(lr){6-9} \\\\cmidrule(lr){10-13} &  ACC$^\\\\uparrow$  &  ECE$_\\\\downarrow$  &  NLL$_\\\\downarrow$    &  Rank$_\\\\downarrow$  &  ACC$^\\\\uparrow$  &  ECE$_\\\\downarrow$  &  NLL$_\\\\downarrow$    &  Rank$_\\\\downarrow$    &  ACC$^\\\\uparrow$ &  ECE$_\\\\downarrow$  &  NLL$_\\\\downarrow$    &  Rank$_\\\\downarrow$\\\\\\\\')\n",
    "print('\\\\midrule')\n",
    "print(oneh_str)\n",
    "print('\\midrule')\n",
    "print(LS_str)\n",
    "print('\\midrule')\n",
    "print(MbLS_str)\n",
    "print('\\midrule')\n",
    "print(Mxp_str)\n",
    "print('\\midrule')\n",
    "# print(FL_str)\n",
    "# print('\\midrule')\n",
    "print(DCA_str)\n",
    "print('\\midrule')\n",
    "print('\\midrule')\n",
    "print(DE_str)\n",
    "print('\\midrule')\n",
    "print('\\midrule')\n",
    "print(mh_str)\n",
    "print('\\midrule')\n",
    "print(p2h_str)\n",
    "print('\\midrule')\n",
    "print(p4h_str)\n",
    "print('\\\\bottomrule')\n",
    "print('\\\\\\[-0.25cm]')\n",
    "print('\\\\end{tabular}')\n",
    "print(caption)\n",
    "print('\\\\end{center}')\n",
    "print('\\\\vspace{-1cm}')\n",
    "print('\\\\end{table}')"
   ]
  },
  {
   "cell_type": "code",
   "execution_count": null,
   "id": "113442bb",
   "metadata": {},
   "outputs": [],
   "source": []
  },
  {
   "cell_type": "code",
   "execution_count": null,
   "id": "97016ab1",
   "metadata": {},
   "outputs": [],
   "source": []
  },
  {
   "cell_type": "code",
   "execution_count": null,
   "id": "649c0921",
   "metadata": {},
   "outputs": [],
   "source": []
  },
  {
   "cell_type": "code",
   "execution_count": null,
   "id": "f674ddc0",
   "metadata": {},
   "outputs": [],
   "source": []
  },
  {
   "cell_type": "code",
   "execution_count": null,
   "id": "6fbd2e9c",
   "metadata": {},
   "outputs": [],
   "source": []
  },
  {
   "cell_type": "code",
   "execution_count": null,
   "id": "0c6063aa",
   "metadata": {},
   "outputs": [],
   "source": []
  },
  {
   "cell_type": "code",
   "execution_count": null,
   "id": "fb7c920c",
   "metadata": {},
   "outputs": [],
   "source": []
  },
  {
   "cell_type": "code",
   "execution_count": null,
   "id": "ba114049",
   "metadata": {},
   "outputs": [],
   "source": []
  },
  {
   "cell_type": "code",
   "execution_count": null,
   "id": "97677147",
   "metadata": {},
   "outputs": [],
   "source": []
  },
  {
   "cell_type": "code",
   "execution_count": null,
   "id": "69036fb1",
   "metadata": {},
   "outputs": [],
   "source": []
  },
  {
   "cell_type": "code",
   "execution_count": null,
   "id": "21f81160",
   "metadata": {},
   "outputs": [],
   "source": []
  },
  {
   "cell_type": "code",
   "execution_count": null,
   "id": "663362ce",
   "metadata": {},
   "outputs": [],
   "source": []
  },
  {
   "cell_type": "markdown",
   "id": "452d94a8",
   "metadata": {},
   "source": [
    "# Kather"
   ]
  },
  {
   "cell_type": "code",
   "execution_count": null,
   "id": "6716e24f",
   "metadata": {},
   "outputs": [],
   "source": [
    "dataset='kather'"
   ]
  },
  {
   "cell_type": "code",
   "execution_count": null,
   "id": "68672b29",
   "metadata": {},
   "outputs": [],
   "source": [
    "def warn(*args, **kwargs):\n",
    "    pass\n",
    "import warnings\n",
    "warnings.warn = warn"
   ]
  },
  {
   "cell_type": "code",
   "execution_count": null,
   "id": "966f2bc0",
   "metadata": {
    "scrolled": false
   },
   "outputs": [],
   "source": [
    "m_r18 = \\\n",
    "print_all(dataset, 'resnet18', yace_metric=yace_metric) "
   ]
  },
  {
   "cell_type": "code",
   "execution_count": null,
   "id": "a540a299",
   "metadata": {},
   "outputs": [],
   "source": [
    "m_mobilenet = \\\n",
    "print_all(dataset, 'mobilenet_v2', yace_metric=yace_metric)  # new w_max=4/2"
   ]
  },
  {
   "cell_type": "code",
   "execution_count": null,
   "id": "782b96a3",
   "metadata": {},
   "outputs": [],
   "source": [
    "m_r34 = \\\n",
    "print_all(dataset, 'resnet34', yace_metric=yace_metric) # new w_max=4/2"
   ]
  },
  {
   "cell_type": "code",
   "execution_count": null,
   "id": "83b50250",
   "metadata": {},
   "outputs": [],
   "source": [
    "m_r50 = \\\n",
    "print_all(dataset, 'resnet50', yace_metric=yace_metric) # old w_max=3/2"
   ]
  },
  {
   "cell_type": "code",
   "execution_count": null,
   "id": "89090dae",
   "metadata": {},
   "outputs": [],
   "source": [
    "m_cvx = \\\n",
    "print_all(dataset, 'convnext', yace_metric=yace_metric) # new w_max=4/2"
   ]
  },
  {
   "cell_type": "code",
   "execution_count": null,
   "id": "970785e3",
   "metadata": {},
   "outputs": [],
   "source": [
    "oneh_str  ='\\\\textbf{OneH}     & xx1\\\\,$|$\\\\,xx2\\\\,$|$\\\\,xx3  &  xx4\\\\,$|$\\\\,xx5 $|$\\\\,xx6  &  xx7\\\\,$|$\\\\,xx8\\\\,$|$\\\\,xx9  &  x10\\\\,$|$\\\\,x11\\\\,$|$\\\\,x12 \\\\  &  x13 $|$ x14 $|$ x15 \\\\\\\\'\n",
    "DE_str  ='\\\\textbf{D-Ens}      & xx1\\\\,$|$\\\\,xx2\\\\,$|$\\\\,xx3  &  xx4\\\\,$|$\\\\,xx5 $|$\\\\,xx6  &  xx7\\\\,$|$\\\\,xx8\\\\,$|$\\\\,xx9  &  x10\\\\,$|$\\\\,x11\\\\,$|$\\\\,x12 \\\\  &  x13 $|$ x14 $|$ x15 \\\\\\\\'\n",
    "LS_str    ='\\\\textbf{LS}       & xx1\\\\,$|$\\\\,xx2\\\\,$|$\\\\,xx3  &  xx4\\\\,$|$\\\\,xx5 $|$\\\\,xx6  &  xx7\\\\,$|$\\\\,xx8\\\\,$|$\\\\,xx9  &  x10\\\\,$|$\\\\,x11\\\\,$|$\\\\,x12 \\\\  &  x13 $|$ x14 $|$ x15 \\\\\\\\'\n",
    "MbLS_str  ='\\\\textbf{MbLS}     & xx1\\\\,$|$\\\\,xx2\\\\,$|$\\\\,xx3  &  xx4\\\\,$|$\\\\,xx5 $|$\\\\,xx6  &  xx7\\\\,$|$\\\\,xx8\\\\,$|$\\\\,xx9  &  x10\\\\,$|$\\\\,x11\\\\,$|$\\\\,x12 \\\\  &  x13 $|$ x14 $|$ x15 \\\\\\\\'\n",
    "Mxp_str   ='\\\\textbf{MixUp}    & xx1\\\\,$|$\\\\,xx2\\\\,$|$\\\\,xx3  &  xx4\\\\,$|$\\\\,xx5 $|$\\\\,xx6  &  xx7\\\\,$|$\\\\,xx8\\\\,$|$\\\\,xx9  &  x10\\\\,$|$\\\\,x11\\\\,$|$\\\\,x12 \\\\  &  x13 $|$ x14 $|$ x15 \\\\\\\\'\n",
    "# FL_str    ='\\\\textbf{FL}       & xx1\\\\,$|$\\\\,xx2\\\\,$|$\\\\,xx3  &  xx4\\\\,$|$\\\\,xx5 $|$\\\\,xx6  &  xx7\\\\,$|$\\\\,xx8\\\\,$|$\\\\,xx9  &  x10\\\\,$|$\\\\,x11\\\\,$|$\\\\,x12 \\\\\\\\'#  &  x13 $|$ x14 $|$ x15 \\\\'\n",
    "DCA_str    ='\\\\textbf{DCA}     & xx1\\\\,$|$\\\\,xx2\\\\,$|$\\\\,xx3  &  xx4\\\\,$|$\\\\,xx5 $|$\\\\,xx6  &  xx7\\\\,$|$\\\\,xx8\\\\,$|$\\\\,xx9  &  x10\\\\,$|$\\\\,x11\\\\,$|$\\\\,x12 \\\\  &  x13 $|$ x14 $|$ x15 \\\\\\\\'\n",
    "mh_str    ='\\\\textbf{MH}       & xx1\\\\,$|$\\\\,xx2\\\\,$|$\\\\,xx3  &  xx4\\\\,$|$\\\\,xx5 $|$\\\\,xx6  &  xx7\\\\,$|$\\\\,xx8\\\\,$|$\\\\,xx9  &  x10\\\\,$|$\\\\,x11\\\\,$|$\\\\,x12 \\\\  &  x13 $|$ x14 $|$ x15 \\\\\\\\'\n",
    "p2h_str   ='\\\\textbf{P2H}      & xx1\\\\,$|$\\\\,xx2\\\\,$|$\\\\,xx3  &  xx4\\\\,$|$\\\\,xx5 $|$\\\\,xx6  &  xx7\\\\,$|$\\\\,xx8\\\\,$|$\\\\,xx9  &  x10\\\\,$|$\\\\,x11\\\\,$|$\\\\,x12 \\\\  &  x13 $|$ x14 $|$ x15 \\\\\\\\'\n",
    "p4h_str   ='\\\\textbf{P4H}      & xx1\\\\,$|$\\\\,xx2\\\\,$|$\\\\,xx3  &  xx4\\\\,$|$\\\\,xx5 $|$\\\\,xx6  &  xx7\\\\,$|$\\\\,xx8\\\\,$|$\\\\,xx9  &  x10\\\\,$|$\\\\,x11\\\\,$|$\\\\,x12 \\\\  &  x13 $|$ x14 $|$ x15 \\\\\\\\'"
   ]
  },
  {
   "cell_type": "code",
   "execution_count": null,
   "id": "07f3a045",
   "metadata": {},
   "outputs": [],
   "source": [
    "m_r50_with_ranks = add_acc_ece_combined_ranks(m_r50)\n",
    "m_cvx_with_ranks = add_acc_ece_combined_ranks(m_cvx)\n",
    "m_swt_with_ranks = add_acc_ece_combined_ranks(m_swt)"
   ]
  },
  {
   "cell_type": "code",
   "execution_count": null,
   "id": "c1d7c646",
   "metadata": {},
   "outputs": [],
   "source": [
    "strings = [oneh_str, DE_str, LS_str, MbLS_str, Mxp_str, DCA_str, mh_str, p2h_str, p4h_str]\n",
    "\n",
    "strings = fill_rows(m_mobilenet, 'xx1', 'xx2', 'xx3', strings)\n",
    "strings = fill_rows(m_r18, 'xx4', 'xx5', 'xx6', strings)\n",
    "strings = fill_rows(m_r34, 'xx7', 'xx8', 'xx9', strings)\n",
    "strings = fill_rows(m_r50, 'x10', 'x11', 'x12', strings)\n",
    "strings = fill_rows(m_cvx, 'x13', 'x14', 'x15', strings)\n",
    "\n",
    "oneh_str, DE_str, LS_str, MbLS_str, Mxp_str, DCA_str, mh_str, p2h_str, p4h_str = strings"
   ]
  },
  {
   "cell_type": "code",
   "execution_count": null,
   "id": "a3505fe2",
   "metadata": {},
   "outputs": [],
   "source": [
    "caption = r'\\caption{Results on the \\textbf{Kather dataset} with different architectures and strategies. \\\n",
    "For each model, \\unl{\\textbf{best}} and \\textbf{second best} are marked. \\\n",
    "Performance is \\textbf{NLL} $|$ \\textbf{Accuracy} $|$ \\textbf{ECE} ($\\times100$) averaged over 5 training runs.}\\label{kather}'"
   ]
  },
  {
   "cell_type": "code",
   "execution_count": null,
   "id": "de48fc9e",
   "metadata": {},
   "outputs": [],
   "source": [
    "print('\\\\begin{table}[!t]')\n",
    "print('\\\\renewcommand{\\\\arraystretch}{1.25}')\n",
    "print('\\\\setlength\\\\tabcolsep{5.5pt}')\n",
    "print('\\\\begin{center}')\n",
    "print('\\\\begin{tabular}{cccccc}')\n",
    "print('                  &  \\\\textbf{MobileNet}          &    \\\\textbf{ResNet18}        &    \\\\textbf{ResNet34}      &  \\\\textbf{ResNet50} &  \\\\textbf{ConvNeXt}\\\\\\\\')\n",
    "print('\\midrule')\n",
    "print(oneh_str)\n",
    "print('\\midrule')\n",
    "print(LS_str)\n",
    "print('\\midrule')\n",
    "print(MbLS_str)\n",
    "print('\\midrule')\n",
    "print(Mxp_str)\n",
    "print('\\midrule')\n",
    "# print(FL_str)\n",
    "# print('\\midrule')\n",
    "print(DCA_str)\n",
    "print('\\midrule')\n",
    "print('\\midrule')\n",
    "print(DE_str)\n",
    "print('\\midrule')\n",
    "print('\\midrule')\n",
    "print(mh_str)\n",
    "print('\\midrule')\n",
    "print(p2h_str)\n",
    "print('\\midrule')\n",
    "print(p4h_str)\n",
    "print('\\\\bottomrule')\n",
    "print('\\\\\\[-0.25cm]')\n",
    "print('\\\\end{tabular}')\n",
    "print(caption)\n",
    "print('\\\\end{center}')\n",
    "print('\\\\vspace{-1cm}')\n",
    "print('\\\\end{table}')"
   ]
  },
  {
   "cell_type": "code",
   "execution_count": null,
   "id": "17715eed",
   "metadata": {},
   "outputs": [],
   "source": []
  },
  {
   "cell_type": "markdown",
   "id": "8b4a41d0",
   "metadata": {},
   "source": [
    "# Retinamnist"
   ]
  },
  {
   "cell_type": "code",
   "execution_count": null,
   "id": "b8b5f500",
   "metadata": {},
   "outputs": [],
   "source": [
    "dataset='retinamnist'"
   ]
  },
  {
   "cell_type": "code",
   "execution_count": null,
   "id": "6202df73",
   "metadata": {},
   "outputs": [],
   "source": [
    "# m_r18 = \\\n",
    "# print_all(dataset, 'resnet18', yace_metric=yace_metric) # new w_max=4/2"
   ]
  },
  {
   "cell_type": "code",
   "execution_count": null,
   "id": "de2acaa9",
   "metadata": {},
   "outputs": [],
   "source": [
    "# m_mobilenet = \\\n",
    "# print_all(dataset, 'mobilenet_v2', yace_metric=yace_metric) # new w_max=4/2"
   ]
  },
  {
   "cell_type": "code",
   "execution_count": null,
   "id": "8ba7b4d7",
   "metadata": {},
   "outputs": [],
   "source": [
    "# m_r34 = \\\n",
    "# print_all(dataset, 'resnet34', yace_metric=yace_metric) # new w_max=4/2"
   ]
  },
  {
   "cell_type": "code",
   "execution_count": null,
   "id": "f83940a6",
   "metadata": {
    "scrolled": true
   },
   "outputs": [],
   "source": [
    "m_r50 = \\\n",
    "print_all(dataset, 'resnet50', yace_metric=yace_metric)"
   ]
  },
  {
   "cell_type": "code",
   "execution_count": null,
   "id": "c3f44a9e",
   "metadata": {
    "scrolled": true
   },
   "outputs": [],
   "source": [
    "m_cvx = \\\n",
    "print_all(dataset, 'convnext', yace_metric=yace_metric) # new w_max=4/2"
   ]
  },
  {
   "cell_type": "code",
   "execution_count": null,
   "id": "c96e9fa5",
   "metadata": {
    "scrolled": true
   },
   "outputs": [],
   "source": [
    "m_swt = \\\n",
    "print_all(dataset, 'swin', yace_metric=yace_metric)"
   ]
  },
  {
   "cell_type": "code",
   "execution_count": null,
   "id": "323ce68d",
   "metadata": {},
   "outputs": [],
   "source": [
    "oneh_str  ='\\\\textbf{OneH}     & xx1\\\\,$|$\\\\,xx2\\\\,$|$\\\\,xx3  &  xx4\\\\,$|$\\\\,xx5 $|$\\\\,xx6  &  xx7\\\\,$|$\\\\,xx8\\\\,$|$\\\\,xx9  &  x10\\\\,$|$\\\\,x11\\\\,$|$\\\\,x12 \\\\  &  x13 $|$ x14 $|$ x15 \\\\\\\\'\n",
    "DE_str  ='\\\\textbf{D-Ens}      & xx1\\\\,$|$\\\\,xx2\\\\,$|$\\\\,xx3  &  xx4\\\\,$|$\\\\,xx5 $|$\\\\,xx6  &  xx7\\\\,$|$\\\\,xx8\\\\,$|$\\\\,xx9  &  x10\\\\,$|$\\\\,x11\\\\,$|$\\\\,x12 \\\\  &  x13 $|$ x14 $|$ x15 \\\\\\\\'\n",
    "LS_str    ='\\\\textbf{LS}       & xx1\\\\,$|$\\\\,xx2\\\\,$|$\\\\,xx3  &  xx4\\\\,$|$\\\\,xx5 $|$\\\\,xx6  &  xx7\\\\,$|$\\\\,xx8\\\\,$|$\\\\,xx9  &  x10\\\\,$|$\\\\,x11\\\\,$|$\\\\,x12 \\\\  &  x13 $|$ x14 $|$ x15 \\\\\\\\'\n",
    "MbLS_str  ='\\\\textbf{MbLS}     & xx1\\\\,$|$\\\\,xx2\\\\,$|$\\\\,xx3  &  xx4\\\\,$|$\\\\,xx5 $|$\\\\,xx6  &  xx7\\\\,$|$\\\\,xx8\\\\,$|$\\\\,xx9  &  x10\\\\,$|$\\\\,x11\\\\,$|$\\\\,x12 \\\\  &  x13 $|$ x14 $|$ x15 \\\\\\\\'\n",
    "Mxp_str   ='\\\\textbf{MixUp}    & xx1\\\\,$|$\\\\,xx2\\\\,$|$\\\\,xx3  &  xx4\\\\,$|$\\\\,xx5 $|$\\\\,xx6  &  xx7\\\\,$|$\\\\,xx8\\\\,$|$\\\\,xx9  &  x10\\\\,$|$\\\\,x11\\\\,$|$\\\\,x12 \\\\  &  x13 $|$ x14 $|$ x15 \\\\\\\\'\n",
    "# FL_str    ='\\\\textbf{FL}       & xx1\\\\,$|$\\\\,xx2\\\\,$|$\\\\,xx3  &  xx4\\\\,$|$\\\\,xx5 $|$\\\\,xx6  &  xx7\\\\,$|$\\\\,xx8\\\\,$|$\\\\,xx9  &  x10\\\\,$|$\\\\,x11\\\\,$|$\\\\,x12 \\\\\\\\'#  &  x13 $|$ x14 $|$ x15 \\\\'\n",
    "DCA_str    ='\\\\textbf{DCA}     & xx1\\\\,$|$\\\\,xx2\\\\,$|$\\\\,xx3  &  xx4\\\\,$|$\\\\,xx5 $|$\\\\,xx6  &  xx7\\\\,$|$\\\\,xx8\\\\,$|$\\\\,xx9  &  x10\\\\,$|$\\\\,x11\\\\,$|$\\\\,x12 \\\\  &  x13 $|$ x14 $|$ x15 \\\\\\\\'\n",
    "mh_str    ='\\\\textbf{U2H}       & xx1\\\\,$|$\\\\,xx2\\\\,$|$\\\\,xx3  &  xx4\\\\,$|$\\\\,xx5 $|$\\\\,xx6  &  xx7\\\\,$|$\\\\,xx8\\\\,$|$\\\\,xx9  &  x10\\\\,$|$\\\\,x11\\\\,$|$\\\\,x12 \\\\  &  x13 $|$ x14 $|$ x15 \\\\\\\\'\n",
    "p2h_str   ='\\\\textbf{P2H}      & xx1\\\\,$|$\\\\,xx2\\\\,$|$\\\\,xx3  &  xx4\\\\,$|$\\\\,xx5 $|$\\\\,xx6  &  xx7\\\\,$|$\\\\,xx8\\\\,$|$\\\\,xx9  &  x10\\\\,$|$\\\\,x11\\\\,$|$\\\\,x12 \\\\  &  x13 $|$ x14 $|$ x15 \\\\\\\\'\n",
    "p4h_str   ='\\\\textbf{P4H}      & xx1\\\\,$|$\\\\,xx2\\\\,$|$\\\\,xx3  &  xx4\\\\,$|$\\\\,xx5 $|$\\\\,xx6  &  xx7\\\\,$|$\\\\,xx8\\\\,$|$\\\\,xx9  &  x10\\\\,$|$\\\\,x11\\\\,$|$\\\\,x12 \\\\  &  x13 $|$ x14 $|$ x15 \\\\\\\\'"
   ]
  },
  {
   "cell_type": "code",
   "execution_count": null,
   "id": "7cae8148",
   "metadata": {},
   "outputs": [],
   "source": [
    "m_r50_with_ranks = add_acc_ece_combined_ranks(m_r50)\n",
    "m_cvx_with_ranks = add_acc_ece_combined_ranks(m_cvx)\n",
    "m_swt_with_ranks = add_acc_ece_combined_ranks(m_swt)"
   ]
  },
  {
   "cell_type": "code",
   "execution_count": null,
   "id": "beddb0ce",
   "metadata": {},
   "outputs": [],
   "source": []
  },
  {
   "cell_type": "code",
   "execution_count": null,
   "id": "837f0898",
   "metadata": {},
   "outputs": [],
   "source": []
  },
  {
   "cell_type": "code",
   "execution_count": null,
   "id": "b8b9e9f4",
   "metadata": {},
   "outputs": [],
   "source": []
  },
  {
   "cell_type": "code",
   "execution_count": null,
   "id": "6ee1c18f",
   "metadata": {},
   "outputs": [],
   "source": []
  },
  {
   "cell_type": "code",
   "execution_count": null,
   "id": "82fb404b",
   "metadata": {},
   "outputs": [],
   "source": []
  },
  {
   "cell_type": "code",
   "execution_count": null,
   "id": "bf1f5b20",
   "metadata": {},
   "outputs": [],
   "source": []
  },
  {
   "cell_type": "code",
   "execution_count": null,
   "id": "45f360d9",
   "metadata": {},
   "outputs": [],
   "source": []
  },
  {
   "cell_type": "code",
   "execution_count": null,
   "id": "b8efe110",
   "metadata": {},
   "outputs": [],
   "source": []
  },
  {
   "cell_type": "code",
   "execution_count": null,
   "id": "a481ad86",
   "metadata": {},
   "outputs": [],
   "source": []
  },
  {
   "cell_type": "code",
   "execution_count": null,
   "id": "2c9d4829",
   "metadata": {},
   "outputs": [],
   "source": []
  },
  {
   "cell_type": "code",
   "execution_count": null,
   "id": "1bf4808f",
   "metadata": {},
   "outputs": [],
   "source": []
  },
  {
   "cell_type": "markdown",
   "id": "53bcfd1d",
   "metadata": {},
   "source": [
    "# Dermamnist"
   ]
  },
  {
   "cell_type": "code",
   "execution_count": null,
   "id": "f31d6903",
   "metadata": {},
   "outputs": [],
   "source": [
    "dataset='dermamnist'"
   ]
  },
  {
   "cell_type": "code",
   "execution_count": null,
   "id": "79b3f1b2",
   "metadata": {},
   "outputs": [],
   "source": [
    "m_r18 = \\\n",
    "print_all(dataset, 'resnet18', yace_metric=yace_metric) # new w_max=4/2"
   ]
  },
  {
   "cell_type": "code",
   "execution_count": null,
   "id": "b557c1d4",
   "metadata": {},
   "outputs": [],
   "source": [
    "m_mobilenet = \\\n",
    "print_all(dataset, 'mobilenet_v2', yace_metric=yace_metric) # new w_max=4/2"
   ]
  },
  {
   "cell_type": "code",
   "execution_count": null,
   "id": "e1add4b6",
   "metadata": {},
   "outputs": [],
   "source": [
    "m_r34 = \\\n",
    "print_all(dataset, 'resnet34', yace_metric=yace_metric) # new w_max=4/2"
   ]
  },
  {
   "cell_type": "code",
   "execution_count": null,
   "id": "c958a0f6",
   "metadata": {},
   "outputs": [],
   "source": [
    "m_r50 = \\\n",
    "print_all(dataset, 'resnet50', yace_metric=yace_metric)"
   ]
  },
  {
   "cell_type": "code",
   "execution_count": null,
   "id": "aa43b5e7",
   "metadata": {},
   "outputs": [],
   "source": [
    "m_cvx = \\\n",
    "print_all(dataset, 'convnext', yace_metric=yace_metric) # new w_max=4/2"
   ]
  },
  {
   "cell_type": "code",
   "execution_count": null,
   "id": "e1c35e23",
   "metadata": {},
   "outputs": [],
   "source": [
    "oneh_str  ='\\\\textbf{OneH}     & xx1\\\\,$|$\\\\,xx2\\\\,$|$\\\\,xx3  &  xx4\\\\,$|$\\\\,xx5 $|$\\\\,xx6  &  xx7\\\\,$|$\\\\,xx8\\\\,$|$\\\\,xx9  &  x10\\\\,$|$\\\\,x11\\\\,$|$\\\\,x12 \\\\  &  x13 $|$ x14 $|$ x15 \\\\\\\\'\n",
    "DE_str  ='\\\\textbf{D-Ens}      & xx1\\\\,$|$\\\\,xx2\\\\,$|$\\\\,xx3  &  xx4\\\\,$|$\\\\,xx5 $|$\\\\,xx6  &  xx7\\\\,$|$\\\\,xx8\\\\,$|$\\\\,xx9  &  x10\\\\,$|$\\\\,x11\\\\,$|$\\\\,x12 \\\\  &  x13 $|$ x14 $|$ x15 \\\\\\\\'\n",
    "LS_str    ='\\\\textbf{LS}       & xx1\\\\,$|$\\\\,xx2\\\\,$|$\\\\,xx3  &  xx4\\\\,$|$\\\\,xx5 $|$\\\\,xx6  &  xx7\\\\,$|$\\\\,xx8\\\\,$|$\\\\,xx9  &  x10\\\\,$|$\\\\,x11\\\\,$|$\\\\,x12 \\\\  &  x13 $|$ x14 $|$ x15 \\\\\\\\'\n",
    "MbLS_str  ='\\\\textbf{MbLS}     & xx1\\\\,$|$\\\\,xx2\\\\,$|$\\\\,xx3  &  xx4\\\\,$|$\\\\,xx5 $|$\\\\,xx6  &  xx7\\\\,$|$\\\\,xx8\\\\,$|$\\\\,xx9  &  x10\\\\,$|$\\\\,x11\\\\,$|$\\\\,x12 \\\\  &  x13 $|$ x14 $|$ x15 \\\\\\\\'\n",
    "Mxp_str   ='\\\\textbf{MixUp}    & xx1\\\\,$|$\\\\,xx2\\\\,$|$\\\\,xx3  &  xx4\\\\,$|$\\\\,xx5 $|$\\\\,xx6  &  xx7\\\\,$|$\\\\,xx8\\\\,$|$\\\\,xx9  &  x10\\\\,$|$\\\\,x11\\\\,$|$\\\\,x12 \\\\  &  x13 $|$ x14 $|$ x15 \\\\\\\\'\n",
    "# FL_str    ='\\\\textbf{FL}       & xx1\\\\,$|$\\\\,xx2\\\\,$|$\\\\,xx3  &  xx4\\\\,$|$\\\\,xx5 $|$\\\\,xx6  &  xx7\\\\,$|$\\\\,xx8\\\\,$|$\\\\,xx9  &  x10\\\\,$|$\\\\,x11\\\\,$|$\\\\,x12 \\\\\\\\'#  &  x13 $|$ x14 $|$ x15 \\\\'\n",
    "DCA_str    ='\\\\textbf{DCA}     & xx1\\\\,$|$\\\\,xx2\\\\,$|$\\\\,xx3  &  xx4\\\\,$|$\\\\,xx5 $|$\\\\,xx6  &  xx7\\\\,$|$\\\\,xx8\\\\,$|$\\\\,xx9  &  x10\\\\,$|$\\\\,x11\\\\,$|$\\\\,x12 \\\\  &  x13 $|$ x14 $|$ x15 \\\\\\\\'\n",
    "mh_str    ='\\\\textbf{U2H}       & xx1\\\\,$|$\\\\,xx2\\\\,$|$\\\\,xx3  &  xx4\\\\,$|$\\\\,xx5 $|$\\\\,xx6  &  xx7\\\\,$|$\\\\,xx8\\\\,$|$\\\\,xx9  &  x10\\\\,$|$\\\\,x11\\\\,$|$\\\\,x12 \\\\  &  x13 $|$ x14 $|$ x15 \\\\\\\\'\n",
    "p2h_str   ='\\\\textbf{P2H}      & xx1\\\\,$|$\\\\,xx2\\\\,$|$\\\\,xx3  &  xx4\\\\,$|$\\\\,xx5 $|$\\\\,xx6  &  xx7\\\\,$|$\\\\,xx8\\\\,$|$\\\\,xx9  &  x10\\\\,$|$\\\\,x11\\\\,$|$\\\\,x12 \\\\  &  x13 $|$ x14 $|$ x15 \\\\\\\\'\n",
    "p4h_str   ='\\\\textbf{P4H}      & xx1\\\\,$|$\\\\,xx2\\\\,$|$\\\\,xx3  &  xx4\\\\,$|$\\\\,xx5 $|$\\\\,xx6  &  xx7\\\\,$|$\\\\,xx8\\\\,$|$\\\\,xx9  &  x10\\\\,$|$\\\\,x11\\\\,$|$\\\\,x12 \\\\  &  x13 $|$ x14 $|$ x15 \\\\\\\\'"
   ]
  },
  {
   "cell_type": "code",
   "execution_count": null,
   "id": "cad67c3d",
   "metadata": {},
   "outputs": [],
   "source": [
    "strings = [oneh_str, DE_str, LS_str, MbLS_str, Mxp_str, DCA_str, mh_str, p2h_str, p4h_str]\n",
    "\n",
    "strings = fill_rows(m_mobilenet, 'xx1', 'xx2', 'xx3', strings)\n",
    "strings = fill_rows(m_r18, 'xx4', 'xx5', 'xx6', strings)\n",
    "strings = fill_rows(m_r34, 'xx7', 'xx8', 'xx9', strings)\n",
    "strings = fill_rows(m_r50, 'x10', 'x11', 'x12', strings)\n",
    "strings = fill_rows(m_cvx, 'x13', 'x14', 'x15', strings)\n",
    "\n",
    "oneh_str, DE_str, LS_str, MbLS_str, Mxp_str, DCA_str, mh_str, p2h_str, p4h_str = strings"
   ]
  },
  {
   "cell_type": "code",
   "execution_count": null,
   "id": "aae17e05",
   "metadata": {},
   "outputs": [],
   "source": [
    "caption = r'\\caption{Results on the \\textbf{RetinaMnist dataset} with different architectures and strategies. \\\n",
    "For each model, \\unl{\\textbf{best}} and \\textbf{second best} are marked. \\\n",
    "Performance is \\textbf{ECEx} $|$ \\textbf{Accuracy} $|$ \\textbf{ECE} ($\\times100$) averaged over 5 training runs.}\\label{pathmnist}'"
   ]
  },
  {
   "cell_type": "code",
   "execution_count": null,
   "id": "2322b5e5",
   "metadata": {},
   "outputs": [],
   "source": [
    "print('\\\\begin{table}[!t]')\n",
    "print('\\\\renewcommand{\\\\arraystretch}{1.25}')\n",
    "print('\\\\setlength\\\\tabcolsep{5.5pt}')\n",
    "print('\\\\begin{center}')\n",
    "print('\\\\begin{tabular}{cccccc}')\n",
    "print('                  &  \\\\textbf{MobileNet}          &    \\\\textbf{ResNet18}        &    \\\\textbf{ResNet34}      &  \\\\textbf{ResNet50} &  \\\\textbf{ConvNeXt}\\\\\\\\')\n",
    "print('\\midrule')\n",
    "print(oneh_str)\n",
    "print('\\midrule')\n",
    "print(LS_str)\n",
    "print('\\midrule')\n",
    "print(MbLS_str)\n",
    "print('\\midrule')\n",
    "print(Mxp_str)\n",
    "print('\\midrule')\n",
    "# print(FL_str)\n",
    "# print('\\midrule')\n",
    "print(DCA_str)\n",
    "print('\\midrule')\n",
    "print('\\midrule')\n",
    "print(DE_str)\n",
    "print('\\midrule')\n",
    "print('\\midrule')\n",
    "print(mh_str)\n",
    "print('\\midrule')\n",
    "print(p2h_str)\n",
    "print('\\midrule')\n",
    "print(p4h_str)\n",
    "print('\\\\bottomrule')\n",
    "print('\\\\\\[-0.25cm]')\n",
    "print('\\\\end{tabular}')\n",
    "print(caption)\n",
    "print('\\\\end{center}')\n",
    "print('\\\\vspace{-1cm}')\n",
    "print('\\\\end{table}')"
   ]
  },
  {
   "cell_type": "code",
   "execution_count": null,
   "id": "23f21eef",
   "metadata": {},
   "outputs": [],
   "source": []
  }
 ],
 "metadata": {
  "kernelspec": {
   "display_name": "pytorch",
   "language": "python",
   "name": "pytorch"
  },
  "language_info": {
   "codemirror_mode": {
    "name": "ipython",
    "version": 3
   },
   "file_extension": ".py",
   "mimetype": "text/x-python",
   "name": "python",
   "nbconvert_exporter": "python",
   "pygments_lexer": "ipython3",
   "version": "3.10.8"
  }
 },
 "nbformat": 4,
 "nbformat_minor": 5
}
